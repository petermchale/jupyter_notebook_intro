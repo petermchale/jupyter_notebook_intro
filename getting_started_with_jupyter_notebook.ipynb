{
 "cells": [
  {
   "cell_type": "code",
   "execution_count": 1,
   "metadata": {},
   "outputs": [
    {
     "data": {
      "text/plain": [
       "'hello world'"
      ]
     },
     "execution_count": 1,
     "metadata": {},
     "output_type": "execute_result"
    }
   ],
   "source": [
    "# this is a code cell ; type some python code and press shift + enter to evaluate\n",
    "'hello world'"
   ]
  },
  {
   "cell_type": "code",
   "execution_count": 2,
   "metadata": {},
   "outputs": [
    {
     "data": {
      "text/plain": [
       "4"
      ]
     },
     "execution_count": 2,
     "metadata": {},
     "output_type": "execute_result"
    }
   ],
   "source": [
    "# we can do math too:\n",
    "2 + 2"
   ]
  },
  {
   "cell_type": "code",
   "execution_count": 3,
   "metadata": {},
   "outputs": [],
   "source": [
    "# markdown is a way to format text easily\n",
    "# choose in menu above: Cell -> Cell Type to toggle markdown or code (shortcut: M and Y)"
   ]
  },
  {
   "cell_type": "markdown",
   "metadata": {},
   "source": [
    "# This is a title of a section\n",
    "This is the body of the section. \n",
    "\n",
    "## This is a subtitle \n",
    "\n",
    "\n",
    "\n",
    "\n",
    "Double click this cell to see the code for it. "
   ]
  },
  {
   "cell_type": "markdown",
   "metadata": {},
   "source": [
    "# Preventing text from being interpreted in markdown mode\n",
    "\n",
    "If you want text in a markdown cell to show up verbatim, then simply indent by 4 spaces or 1 tab: \n",
    "\n",
    "    ## This is a subtitle \n"
   ]
  },
  {
   "cell_type": "markdown",
   "metadata": {},
   "source": [
    "\n",
    "# Emphasizing words\n",
    "\n",
    "Use one asterisk to *italicize* and two to make **bold**.\n"
   ]
  },
  {
   "cell_type": "markdown",
   "metadata": {},
   "source": [
    "\n",
    "# HTML\n",
    "\n",
    "Typing \n",
    "\n",
    "    <font color='red'>Here I color text using HTML</font>\n",
    "    \n",
    "in markdown mode produces: <font color='red'>Here I color text using HTML</font>\n",
    "\n",
    "Typing \n",
    "\n",
    "    | This | is   |\n",
    "    |-|-|\n",
    "    |   a  | table| \n",
    "\n",
    "produces a nice HTML Table: \n",
    "\n",
    "| This | is   |\n",
    "|-|-|\n",
    "|   a  | table| \n"
   ]
  },
  {
   "cell_type": "markdown",
   "metadata": {},
   "source": [
    "# Marking up code\n",
    "\n",
    "Use Github flavored markdown to display code.\n",
    "\n",
    "Use a single back tick to mark-down code inline, e.g. \n",
    "\n",
    "    `source activate lab-meeting` \n",
    "\n",
    "produces `source activate lab-meeting`. \n",
    "\n",
    "Use three backticks for code blocks, e.g., \n",
    "    ```python\n",
    "    print \"Hello World\"\n",
    "    ```\n",
    "produces \n",
    "\n",
    "```python\n",
    "print \"Hello World\"\n",
    "```\n"
   ]
  },
  {
   "cell_type": "markdown",
   "metadata": {},
   "source": [
    "# Shortcuts\n",
    "\n",
    "Go to `Help -> Keyboard Shortcuts`"
   ]
  },
  {
   "cell_type": "markdown",
   "metadata": {},
   "source": [
    "# Math\n",
    "\n",
    "Using LaTeX, we can inline math, e.g., $e^{i\\pi} = -1$, or display it on a separate line: \n",
    "$$ \\frac{d}{dx} x^3 = 3 x^2. $$"
   ]
  },
  {
   "cell_type": "markdown",
   "metadata": {},
   "source": [
    "# Images\n",
    "\n",
    "Type \n",
    "\n",
    "    <img src=\"jupyter_logo.png\" />    \n",
    "\n",
    "to produce <img src=\"jupyter_logo.png\" />  \n",
    "\n"
   ]
  },
  {
   "cell_type": "code",
   "execution_count": 4,
   "metadata": {},
   "outputs": [
    {
     "data": {
      "text/html": [
       "<img src=\"http://python.org/images/python-logo.gif\"/>"
      ],
      "text/plain": [
       "<IPython.core.display.Image object>"
      ]
     },
     "execution_count": 4,
     "metadata": {},
     "output_type": "execute_result"
    }
   ],
   "source": [
    "# fetching an image from the net\n",
    "from IPython.display import Image\n",
    "Image(url='http://python.org/images/python-logo.gif')"
   ]
  },
  {
   "cell_type": "markdown",
   "metadata": {},
   "source": [
    "# Embedding links\n",
    "\n",
    "Type \n",
    "    \n",
    "    [Jupyter website](https://jupyter.org)\n",
    "to create a link to the [Jupyter website](https://jupyter.org)."
   ]
  },
  {
   "cell_type": "markdown",
   "metadata": {},
   "source": [
    " # Printing \n"
   ]
  },
  {
   "cell_type": "code",
   "execution_count": 5,
   "metadata": {},
   "outputs": [
    {
     "name": "stdout",
     "output_type": "stream",
     "text": [
      "hello world\n"
     ]
    }
   ],
   "source": [
    "print 'hello world'"
   ]
  },
  {
   "cell_type": "code",
   "execution_count": 6,
   "metadata": {},
   "outputs": [
    {
     "name": "stdout",
     "output_type": "stream",
     "text": [
      "1 2\n"
     ]
    }
   ],
   "source": [
    "a = 1\n",
    "b = 2\n",
    "print a, b "
   ]
  },
  {
   "cell_type": "markdown",
   "metadata": {},
   "source": [
    "# Functions\n",
    "\n",
    "Code in a Jupyter notebook just as you would in a `.py` file...\n",
    "\n"
   ]
  },
  {
   "cell_type": "code",
   "execution_count": 7,
   "metadata": {},
   "outputs": [
    {
     "data": {
      "text/plain": [
       "(function, 5)"
      ]
     },
     "execution_count": 7,
     "metadata": {},
     "output_type": "execute_result"
    }
   ],
   "source": [
    "def transform(n): # this is called a \"closure\"\n",
    "    def add_n(x): \n",
    "        return x + n\n",
    "    return add_n\n",
    "add_2 = transform(2)\n",
    "type(add_2), add_2(3)"
   ]
  },
  {
   "cell_type": "markdown",
   "metadata": {},
   "source": [
    "# Accessing the underlying operating system"
   ]
  },
  {
   "cell_type": "code",
   "execution_count": 8,
   "metadata": {},
   "outputs": [
    {
     "name": "stdout",
     "output_type": "stream",
     "text": [
      "/Users/petermchale/Work/teaching/180530_jupyter_notebook_intro\r\n"
     ]
    }
   ],
   "source": [
    "!pwd"
   ]
  },
  {
   "cell_type": "markdown",
   "metadata": {},
   "source": [
    "We can mix python and shell commands..."
   ]
  },
  {
   "cell_type": "code",
   "execution_count": 9,
   "metadata": {},
   "outputs": [
    {
     "name": "stdout",
     "output_type": "stream",
     "text": [
      "['getting-started.ipynb', 'helper_functions.py', 'helper_functions.pyc', 'installation.key', 'jupyter_logo.png', 'linear_regression.ipynb']\n"
     ]
    }
   ],
   "source": [
    "files = !ls\n",
    "print files"
   ]
  },
  {
   "cell_type": "markdown",
   "metadata": {},
   "source": [
    "And use python variables as shell variables..."
   ]
  },
  {
   "cell_type": "code",
   "execution_count": 10,
   "metadata": {},
   "outputs": [
    {
     "name": "stdout",
     "output_type": "stream",
     "text": [
      "[getting-started.ipynb, helper_functions.py, helper_functions.pyc, installation.key, jupyter_logo.png, linear_regression.ipynb]\r\n"
     ]
    }
   ],
   "source": [
    "!echo $files"
   ]
  },
  {
   "cell_type": "markdown",
   "metadata": {},
   "source": [
    "# Plotting\n",
    "\n"
   ]
  },
  {
   "cell_type": "code",
   "execution_count": 11,
   "metadata": {},
   "outputs": [],
   "source": [
    "%matplotlib inline "
   ]
  },
  {
   "cell_type": "markdown",
   "metadata": {},
   "source": [
    "The above \"magic command\" configures matplotlib to render its figures inline. You'll need to do `conda install matplotlib` at the command line first! "
   ]
  },
  {
   "cell_type": "code",
   "execution_count": 12,
   "metadata": {},
   "outputs": [],
   "source": [
    "import numpy as np\n",
    "import matplotlib.pyplot as plt"
   ]
  },
  {
   "cell_type": "code",
   "execution_count": 13,
   "metadata": {},
   "outputs": [
    {
     "data": {
      "text/plain": [
       "Text(0.5,1,'A little chirp')"
      ]
     },
     "execution_count": 13,
     "metadata": {},
     "output_type": "execute_result"
    },
    {
     "data": {
      "image/png": "[encoded data removed]",
      "text/plain": [
       "<Figure size 432x288 with 1 Axes>"
      ]
     },
     "metadata": {},
     "output_type": "display_data"
    }
   ],
   "source": [
    "x = np.linspace(0, 2*np.pi, 300)\n",
    "y = np.sin(x**2)\n",
    "plt.plot(x, y)\n",
    "plt.title(\"A little chirp\")"
   ]
  }
 ],
 "metadata": {
  "kernelspec": {
   "display_name": "Python 2",
   "language": "python",
   "name": "python2"
  },
  "language_info": {
   "codemirror_mode": {
    "name": "ipython",
    "version": 2
   },
   "file_extension": ".py",
   "mimetype": "text/x-python",
   "name": "python",
   "nbconvert_exporter": "python",
   "pygments_lexer": "ipython2",
   "version": "2.7.15"
  }
 },
 "nbformat": 4,
 "nbformat_minor": 2
}
